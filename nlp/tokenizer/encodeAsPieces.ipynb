{
 "cells": [
  {
   "cell_type": "markdown",
   "metadata": {},
   "source": [
    "# Train Model"
   ]
  },
  {
   "cell_type": "code",
   "execution_count": null,
   "metadata": {},
   "outputs": [],
   "source": [
    "# !pip install sentencepiece\n",
    "import sentencepiece as spm\n",
    "with open('./sample_test/sample.txt','w') as f:\n",
    "    f.write(\"류준열이 다했다.\\n 정해영만세 \\n 혼또니 대박 \\n 류준열 준열아 제발 이런 일이 \\n 큰일이다.열어열아 \")\n",
    "spm.SentencePieceTrainer.Train('--user_defined_symbols=준열,류준열 --input=./sample_test/sample.txt --model_prefix=./sample_test/tokenizer_sample --vocab_size=%d'%29)"
   ]
  },
  {
   "cell_type": "markdown",
   "metadata": {},
   "source": [
    "# Load Trained Model"
   ]
  },
  {
   "cell_type": "code",
   "execution_count": 2,
   "metadata": {
    "scrolled": true
   },
   "outputs": [
    {
     "data": {
      "text/plain": [
       "True"
      ]
     },
     "execution_count": 2,
     "metadata": {},
     "output_type": "execute_result"
    }
   ],
   "source": [
    "import sentencepiece as spm\n",
    "sp = spm.SentencePieceProcessor()\n",
    "sp.Load(\"model/tokenizer.model\")"
   ]
  },
  {
   "cell_type": "markdown",
   "metadata": {},
   "source": [
    "# EncodeAsPieces"
   ]
  },
  {
   "cell_type": "code",
   "execution_count": 3,
   "metadata": {},
   "outputs": [
    {
     "data": {
      "text/plain": [
       "['▁난괜찮던데', '.', '악평이', '왜케많', '지', '.', '내가', '팬이라서', '그런가', '?', 'ᄒ']"
      ]
     },
     "execution_count": 3,
     "metadata": {},
     "output_type": "execute_result"
    }
   ],
   "source": [
    "s = \"난괜찮던데.악평이왜케많지.내가팬이라서그런가?ㅎ\"\n",
    "sp.EncodeAsPieces(s)"
   ]
  }
 ],
 "metadata": {
  "kernelspec": {
   "display_name": "Python 3",
   "language": "python",
   "name": "python3"
  },
  "language_info": {
   "codemirror_mode": {
    "name": "ipython",
    "version": 3
   },
   "file_extension": ".py",
   "mimetype": "text/x-python",
   "name": "python",
   "nbconvert_exporter": "python",
   "pygments_lexer": "ipython3",
   "version": "3.6.6"
  }
 },
 "nbformat": 4,
 "nbformat_minor": 2
}
